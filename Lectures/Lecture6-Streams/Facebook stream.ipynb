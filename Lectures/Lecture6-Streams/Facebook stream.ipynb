{
 "cells": [
  {
   "cell_type": "markdown",
   "metadata": {},
   "source": [
    "Problem 2: get today's facebook posting for network\n",
    "\n",
    "https://developers.facebook.com/docs/graph-api/using-graph-api/v2.5\n",
    "\n",
    "Graph-API: get data into and out of Facebooks's social graph.\n",
    "\n",
    "https://developers.facebook.com/docs/graph-api/overview\n",
    "\n",
    "Essentially, the api is a http get url to  returns the graph in the content of the page.\n",
    "\n",
    "Example call the pictures from your graph\n",
    "http://graph.facebook.com/facebook/picture?redirect=false\n",
    "\n",
    "\n",
    "For python we can use the urllib to simplify retrieval\n",
    "https://docs.python.org/2.7/howto/urllib2.html\n"
   ]
  },
  {
   "cell_type": "code",
   "execution_count": 2,
   "metadata": {
    "collapsed": false
   },
   "outputs": [
    {
     "name": "stdout",
     "output_type": "stream",
     "text": [
      "{\"data\":{\"is_silhouette\":false,\"url\":\"https:\\/\\/scontent.xx.fbcdn.net\\/hprofile-xta1\\/v\\/t1.0-1\\/p50x50\\/12006203_10154088276211729_2432197377106462187_n.png?oh=ee7dbec2c040f09a1732acf3285cd653&oe=56BFFA23\"}}\n"
     ]
    }
   ],
   "source": [
    "import urllib2\n",
    "response = urllib2.urlopen('http://graph.facebook.com/facebook/picture?redirect=false')\n",
    "html = response.read()\n",
    "print html"
   ]
  },
  {
   "cell_type": "markdown",
   "metadata": {},
   "source": [
    "To make this easy you should register as a Facebook Developer\n",
    "at https://developers.facebook.com/apps\n",
    "    \n",
    "Login to you Facebook and acount and register as a developer.\n",
    "You will need to create a app name and setup you security details.\n",
    "Create an App ID, API Version, and AppSecret\n",
    "Store them in file outside your p"
   ]
  },
  {
   "cell_type": "code",
   "execution_count": 3,
   "metadata": {
    "collapsed": false
   },
   "outputs": [
    {
     "name": "stdout",
     "output_type": "stream",
     "text": [
      "http://graph.facebook.com/oauth/access_token?client_id=547808358705887&client_secret=7e141bf4406afafeaa43579d1f2d7fd8&grant_type=client_credentials\n",
      "Failed to open \"http://graph.facebook.com/oauth/access_token?client_id=547808358705887&client_secret=7e141bf4406afafeaa43579d1f2d7fd8&grant_type=client_credentials\".\n",
      "We failed with error code - 400.\n"
     ]
    }
   ],
   "source": [
    "import urllib2\n",
    "appSecret=\"7e141bf4406afafeaa43579d1f2d7fd8\"\n",
    "appId=\"547808358705887\"\n",
    "requesturl = 'http://graph.facebook.com/oauth/access_token?client_id='+appId+'&client_secret='+appSecret+'&grant_type=client_credentials'\n",
    "print requesturl\n",
    "try:\n",
    "    response = urllib2.urlopen(requesturl)\n",
    "    html = response.read()\n",
    "    print html\n",
    "\n",
    "except IOError, e:\n",
    "        print 'Failed to open \"%s\".' % requesturl\n",
    "        if hasattr(e, 'code'):\n",
    "            print 'We failed with error code - %s.' % e.code\n",
    "        elif hasattr(e, 'reason'):\n",
    "            print \"The error object has the following 'reason' attribute :\"\n",
    "            print e.reason\n",
    "            print \"This usually means the server doesn't exist,\",\n",
    "            print \"is down, or we don't have an internet connection.\"\n",
    "\n"
   ]
  },
  {
   "cell_type": "markdown",
   "metadata": {},
   "source": [
    "However we need access tokens to really use the service.  Unlike javascript with is embedded into a browser.  Python scripts will be standalone programs that cannot normally share the access in a browser.  So let us pull down and use a python sdk to simplify some of the setup.\n",
    "Retrieve and install:\n",
    "https://github.com/pythonforfacebook/facebook-sdk\n",
    "\n",
    "\n",
    "Use this interface to get a temporary access token\n",
    "https://developers.facebook.com/tools/explorer/\n"
   ]
  },
  {
   "cell_type": "code",
   "execution_count": 21,
   "metadata": {
    "collapsed": false
   },
   "outputs": [
    {
     "ename": "TypeError",
     "evalue": "get_object() takes exactly 2 arguments (1 given)",
     "output_type": "error",
     "traceback": [
      "\u001b[1;31m---------------------------------------------------------------------------\u001b[0m",
      "\u001b[1;31mTypeError\u001b[0m                                 Traceback (most recent call last)",
      "\u001b[1;32m<ipython-input-21-a226e3941d29>\u001b[0m in \u001b[0;36m<module>\u001b[1;34m()\u001b[0m\n\u001b[0;32m     21\u001b[0m \u001b[1;31m#profile = graph.get_object(user)\u001b[0m\u001b[1;33m\u001b[0m\u001b[1;33m\u001b[0m\u001b[0m\n\u001b[0;32m     22\u001b[0m \u001b[1;31m#print profile\u001b[0m\u001b[1;33m\u001b[0m\u001b[1;33m\u001b[0m\u001b[0m\n\u001b[1;32m---> 23\u001b[1;33m \u001b[0mposts\u001b[0m \u001b[1;33m=\u001b[0m \u001b[0mgraph\u001b[0m\u001b[1;33m.\u001b[0m\u001b[0mget_object\u001b[0m\u001b[1;33m(\u001b[0m\u001b[0mfields\u001b[0m\u001b[1;33m=\u001b[0m\u001b[1;34m'posts'\u001b[0m\u001b[1;33m)\u001b[0m\u001b[1;33m\u001b[0m\u001b[0m\n\u001b[0m\u001b[0;32m     24\u001b[0m \u001b[1;33m\u001b[0m\u001b[0m\n\u001b[0;32m     25\u001b[0m \u001b[1;32mwhile\u001b[0m \u001b[0mTrue\u001b[0m\u001b[1;33m:\u001b[0m\u001b[1;33m\u001b[0m\u001b[0m\n",
      "\u001b[1;31mTypeError\u001b[0m: get_object() takes exactly 2 arguments (1 given)"
     ]
    }
   ],
   "source": [
    "#Copied from https://github.com/pythonforfacebook/facebook-sdk/blob/master/examples/get_posts.py\n",
    "import facebook\n",
    "import requests\n",
    "\n",
    "# You'll need an access token here to do anything.  You can get a temporary one\n",
    "# here: https://developers.facebook.com/tools/explorer/\n",
    "access_token = 'CAACEdEose0cBANcRP7PXpdeDZBZAZAZBNK0UuZAcAvEHAZB8ZCbyyEWFOlTDeZCb6mwGQCffdbx55Pl3EarMHZBYmH0wcPZBnjYms7qcZA6PNPPp6ITp6TSjtfFMWCNKXAIq3DLobYpj7rC5kV1WrKyasqvkvZBrFEhZCFEPvxheb7YZBR00gjpZCpzwNZA3kMdk7BbhoeK4OAN1ZCBBuleQfnynyWLLgzJDCZBuXqWD0ZD'\n",
    "# Look at python site.\n",
    "user = 'python'\n",
    "def some_action(post):\n",
    "    \"\"\" Here you might want to do something with each post. E.g. grab the\n",
    "    post's message (post['message']) or the post's picture (post['picture']).\n",
    "    In this implementation we just print the post's created time.\n",
    "    \"\"\"\n",
    "    print(post['created_time'] + \"==================================================\")\n",
    "    print(post['message'])\n",
    "    print(\"=========================================================================\")\n",
    "    \n",
    "    \n",
    "graph = facebook.GraphAPI(access_token)\n",
    "#profile = graph.get_object(user)\n",
    "#print profile\n",
    "posts = graph.get_object(fields='posts')\n",
    "\n",
    "while True:\n",
    "    try:\n",
    "        # Perform some action on each post in the collection we receive from\n",
    "        # Facebook.\n",
    "        [some_action(post=post) for post in posts['message']]\n",
    "        # Attempt to make a request to the next page of data, if it exists.\n",
    "        posts = requests.get(posts['paging']['next']).json()\n",
    "    except KeyError:\n",
    "        # When there are no more pages (['paging']['next']), break from the\n",
    "        # loop and end the script.\n",
    "        break"
   ]
  },
  {
   "cell_type": "code",
   "execution_count": 17,
   "metadata": {
    "collapsed": false
   },
   "outputs": [
    {
     "name": "stdout",
     "output_type": "stream",
     "text": [
      "{\"error\":{\"message\":\"The request is invalid because the app is configured as a desktop app\",\"type\":\"OAuthException\",\"code\":1,\"fbtrace_id\":\"A5lNqY1ioPR\"}}\n"
     ]
    }
   ],
   "source": [
    "import requests\n",
    "appSecret=\"7e141bf4406afafeaa43579d1f2d7fd8\"\n",
    "appId=\"547808358705887\"\n",
    "r = requests.get('https://graph.facebook.com/oauth/access_token?grant_type=client_credentials&client_id='+appId+'&client_secret='+appSecret)\n",
    "access_token = r.text.split('=')[0]\n",
    "print access_token"
   ]
  },
  {
   "cell_type": "code",
   "execution_count": null,
   "metadata": {
    "collapsed": true
   },
   "outputs": [],
   "source": []
  }
 ],
 "metadata": {
  "kernelspec": {
   "display_name": "Python 2",
   "language": "python",
   "name": "python2"
  },
  "language_info": {
   "codemirror_mode": {
    "name": "ipython",
    "version": 2
   },
   "file_extension": ".py",
   "mimetype": "text/x-python",
   "name": "python",
   "nbconvert_exporter": "python",
   "pygments_lexer": "ipython2",
   "version": "2.7.10"
  }
 },
 "nbformat": 4,
 "nbformat_minor": 0
}
