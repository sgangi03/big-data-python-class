{
 "cells": [
  {
   "cell_type": "markdown",
   "metadata": {},
   "source": [
    "#Scaling for streams\n",
    "http://scikit-learn.org/stable/modules/scaling_strategies.html\n",
    "\n",
    "Use of incremental learning can bridge the gap"
   ]
  },
  {
   "cell_type": "markdown",
   "metadata": {},
   "source": [
    "Here is a list of incremental estimators for different tasks:\n",
    "##Classification\n",
    "<ul>\n",
    "<li>sklearn.naive_bayes.MultinomialNB\n",
    "<li>sklearn.naive_bayes.BernoulliNB\n",
    "<li>sklearn.linear_model.Perceptron\n",
    "<li>sklearn.linear_model.SGDClassifier\n",
    "<li>sklearn.linear_model.PassiveAggressiveClassifier\n",
    "</ul>\n",
    "\n",
    "##Regression\n",
    "<ul>\n",
    "<li>sklearn.linear_model.SGDRegressor\n",
    "<li>sklearn.linear_model.PassiveAggressiveRegressor\n",
    "</ul>\n",
    "\n",
    "##Clustering\n",
    "\n",
    "<ul>\n",
    "<li>sklearn.cluster.MiniBatchKMeans\n",
    "</ul>\n",
    "\n",
    "##Decomposition / feature Extraction\n",
    "<ul>\n",
    "<li>sklearn.decomposition.MiniBatchDictionaryLearning\n",
    "<li>sklearn.decomposition.IncrementalPCA\n",
    "<li>sklearn.cluster.MiniBatchKMeans\n",
    "</ul>"
   ]
  },
  {
   "cell_type": "code",
   "execution_count": null,
   "metadata": {
    "collapsed": true
   },
   "outputs": [],
   "source": []
  }
 ],
 "metadata": {
  "kernelspec": {
   "display_name": "Python 2",
   "language": "python",
   "name": "python2"
  },
  "language_info": {
   "codemirror_mode": {
    "name": "ipython",
    "version": 2
   },
   "file_extension": ".py",
   "mimetype": "text/x-python",
   "name": "python",
   "nbconvert_exporter": "python",
   "pygments_lexer": "ipython2",
   "version": "2.7.10"
  }
 },
 "nbformat": 4,
 "nbformat_minor": 0
}
